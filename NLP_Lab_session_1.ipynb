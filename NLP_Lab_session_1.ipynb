{
  "nbformat": 4,
  "nbformat_minor": 0,
  "metadata": {
    "colab": {
      "provenance": [],
      "authorship_tag": "ABX9TyPLr29HQKIWr+IDXUZjjON4",
      "include_colab_link": true
    },
    "kernelspec": {
      "name": "python3",
      "display_name": "Python 3"
    },
    "language_info": {
      "name": "python"
    }
  },
  "cells": [
    {
      "cell_type": "markdown",
      "metadata": {
        "id": "view-in-github",
        "colab_type": "text"
      },
      "source": [
        "<a href=\"https://colab.research.google.com/github/vitovicenti/Computer-Vision-Exercises/blob/main/NLP_Lab_session_1.ipynb\" target=\"_parent\"><img src=\"https://colab.research.google.com/assets/colab-badge.svg\" alt=\"Open In Colab\"/></a>"
      ]
    },
    {
      "cell_type": "code",
      "execution_count": null,
      "metadata": {
        "id": "l_BXiReSuURa"
      },
      "outputs": [],
      "source": [
        "! pip install nltk"
      ]
    },
    {
      "cell_type": "code",
      "source": [
        "import nltk\n",
        "nltk.download('book')"
      ],
      "metadata": {
        "id": "vzPTe1aUulI4"
      },
      "execution_count": null,
      "outputs": []
    },
    {
      "cell_type": "code",
      "source": [
        "from nltk.book import *"
      ],
      "metadata": {
        "id": "WVHTeZwbwl1e"
      },
      "execution_count": 22,
      "outputs": []
    },
    {
      "cell_type": "markdown",
      "source": [
        "1. Define a function freq(w,txt) that counts the frequency of word w in text txt"
      ],
      "metadata": {
        "id": "nxS9dJc9xnvw"
      }
    },
    {
      "cell_type": "code",
      "source": [
        "def freq(w, txt): \n",
        "  fdist = FreqDist(txt)\n",
        "  return fdist.freq(w)"
      ],
      "metadata": {
        "id": "iYAaAz2bvUvl"
      },
      "execution_count": 23,
      "outputs": []
    },
    {
      "cell_type": "markdown",
      "source": [
        "*2*. Define a function cfreq(wlist,txt) that computes the cumulative frequency of a list of words wlist in text txt"
      ],
      "metadata": {
        "id": "gcWNVqmkycLR"
      }
    },
    {
      "cell_type": "code",
      "source": [
        "def cfreq(wlist, txt):\n",
        "  fdist = FreqDist(txt)\n",
        "  c_freq = 0\n",
        "  for i in wlist:\n",
        "    c_freq += fdist.freq(i)\n",
        "  return c_freq"
      ],
      "metadata": {
        "id": "JOU94eEgyfkm"
      },
      "execution_count": 24,
      "outputs": []
    },
    {
      "cell_type": "markdown",
      "source": [
        "3. Define a function cfreq_n(txt,n) that computes the cumulative frequency of the n\n",
        "most common words in text txt"
      ],
      "metadata": {
        "id": "yBE_1QCwzoKf"
      }
    },
    {
      "cell_type": "code",
      "source": [
        "def cfreq_n(txt, n):\n",
        "  common_freq = 0\n",
        "  fdist = nltk.FreqDist(txt)\n",
        "  n_list = fdist.most_common(n)\n",
        "\n",
        "  common_words = []\n",
        "\n",
        "  j=0\n",
        "  for i in n_list:\n",
        "    common_words.append(n_list[j][0])\n",
        "    common_freq += fdist.freq(n_list[j][1])\n",
        "    j+=1\n",
        "  return common_words, common_freq"
      ],
      "metadata": {
        "id": "4rSUzr_Xzrau"
      },
      "execution_count": 25,
      "outputs": []
    },
    {
      "cell_type": "markdown",
      "source": [
        "4. Define a function cfreq_length(txt,k) that computes the cumulative frequency of the words in text txt having at least length k"
      ],
      "metadata": {
        "id": "tPHtlhRfZlqp"
      }
    },
    {
      "cell_type": "code",
      "source": [
        "def cfreq_lenght(txt, k):\n",
        "  fdist = FreqDist(txt)\n",
        "  k_words = [w for w in txt if len(w) >= k]\n",
        "  k_freq=0\n",
        "\n",
        "  for i in k_words:\n",
        "    k_freq += fdist.freq(i)\n",
        "  return k_words, k_freq\n"
      ],
      "metadata": {
        "id": "bkKkhgvSZqTL"
      },
      "execution_count": 26,
      "outputs": []
    },
    {
      "cell_type": "markdown",
      "source": [
        "5. Define a function count_voc(txt,cf) that returns the number of most frequent items in the vocabulary that allows to achieve the cumulative frequency cf"
      ],
      "metadata": {
        "id": "ib5iPLQocwLf"
      }
    },
    {
      "cell_type": "code",
      "source": [
        "def count_voc(txt, cf):\n",
        "  fdist = FreqDist(txt)\n",
        "  sortfreq = fdist.most_common()\n",
        "  totfreq=0\n",
        "  i=0\n",
        "  while totfreq<cf:\n",
        "    word = sortfreq[i][0]\n",
        "    totfreq+=100 * fdist.freq(word)\n",
        "    i+=1\n",
        "  return i\n"
      ],
      "metadata": {
        "id": "F0_M6u7ec0eG"
      },
      "execution_count": 27,
      "outputs": []
    },
    {
      "cell_type": "code",
      "source": [
        "# main\n",
        "\n",
        "word = 'fish'\n",
        "words_l = ['fish', 'crab', 'sea']\n",
        "\n",
        "#1\n",
        "word_freq = freq(word, text1)\n",
        "print(\"1. The word <<\", word, \">> appears in\", text1, word_freq, \"times\")\n",
        "\n",
        "#2\n",
        "c_freq=cfreq(words_l, text1)\n",
        "print(\"\\n2. Words in the list:\", words_l, \", text:\", text1)\n",
        "print(\"\\t Cumulative frequency: \", c_freq)\n",
        "\n",
        "#3\n",
        "common_words, common_freq = cfreq_n(text1, 5)\n",
        "print(\"\\n3. Common words: \", common_words, \"\\n\\t Cumulative frequency: \", common_freq)\n",
        "\n",
        "#4\n",
        "k = 10\n",
        "k_words, k_freq1 = cfreq_lenght(text1, k)\n",
        "print(\"\\n4. Words with lenght at least\", k)\n",
        "# print(k_words)\n",
        "print(\"\\t Cumulative frequency: \", k_freq1)\n",
        "\n",
        "#5\n",
        "cf = 20\n",
        "num_token = count_voc(text1, cf)\n",
        "print(\"\\n5. Number of tokens to obtain a cumulative frequency\", cf, \":\", num_token, \"tokens\")"
      ],
      "metadata": {
        "colab": {
          "base_uri": "https://localhost:8080/"
        },
        "id": "XlMgwF4kvk-P",
        "outputId": "84e80d0a-32f5-4751-f8a3-b3052a85995d"
      },
      "execution_count": 28,
      "outputs": [
        {
          "output_type": "stream",
          "name": "stdout",
          "text": [
            "1. The word << fish >> appears in <Text: Moby Dick by Herman Melville 1851> 0.0005099321751866237 times\n",
            "\n",
            "2. Words in the list: ['fish', 'crab', 'sea'] , text: <Text: Moby Dick by Herman Melville 1851>\n",
            "\t Cumulative frequency:  0.002173921378427185\n",
            "\n",
            "3. Common words:  [',', 'the', '.', 'of', 'and'] \n",
            "\t Cumulative frequency:  0.0\n",
            "\n",
            "4. Words with lenght at least 10\n",
            "\t Cumulative frequency:  0.20887281984824418\n",
            "\n",
            "5. Number of tokens to obtain a cumulative frequency 20 : 6 tokens\n"
          ]
        }
      ]
    }
  ]
}